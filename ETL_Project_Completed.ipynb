{
 "cells": [
  {
   "cell_type": "markdown",
   "metadata": {},
   "source": [
    "# Data Analytic Boot Camp - ETL Project\n",
    "\n",
    "## How is the restaurant's inspection score compare to the Yelp customer review rating?\n",
    "\n",
    "#### We always rely on the application on our digital device to look for high rating restaurant. However,does the high rating restaurants (rank by customers) provide a clearn and healthy food environment for their customer? This project is trying to answer this question by building an ETL flow.\n",
    "\n",
    "#### Resources:\n",
    "#### - Restaurant Inspection Scores, San Francisco Department of Public Health\n",
    "#### (After cleaning the data, n = 54314)\n",
    "\n",
    "#### - Customers Based Rating Scores, Yelp API\n",
    "#### (After cleaning the data, n = 4049)\n",
    "\n",
    "#### Note: Yelp partnered with the local city government to develop the Local Inspector Value_Entry Specification (LIVES) system.  However, the system is partnered with other local web developers, which has no link to Yelp database."
   ]
  },
  {
   "cell_type": "code",
   "execution_count": null,
   "metadata": {},
   "outputs": [],
   "source": [
    "# Dependencies\n",
    "import pandas as pd\n",
    "import os\n",
    "import csv\n",
    "import requests\n",
    "import json\n",
    "import numpy as np\n",
    "from config_1 import ykey\n",
    "\n",
    "# Database Connection Dependencies\n",
    "import sqlalchemy\n",
    "from sqlalchemy.ext.automap import automap_base\n",
    "from sqlalchemy.orm import Session\n",
    "from sqlalchemy import create_engine, inspect\n",
    "import sqlite3\n",
    "\n",
    "# Import Matplot Lib\n",
    "import matplotlib\n",
    "from matplotlib import style\n",
    "style.use('seaborn')\n",
    "import matplotlib.pyplot as plt"
   ]
  },
  {
   "cell_type": "code",
   "execution_count": null,
   "metadata": {},
   "outputs": [],
   "source": [
    "# Loading the CSV file\n",
    "\n",
    "csvpath = os.path.join(\".\", \"Resources\", \"Restaurant_Scores_-_LIVES_Standard.csv\")\n",
    "inspection_scores = pd.read_csv(csvpath)"
   ]
  },
  {
   "cell_type": "code",
   "execution_count": null,
   "metadata": {},
   "outputs": [],
   "source": [
    "# Rename the headers of the dataframe for merging in the database\n",
    "inspection_scores = inspection_scores.rename(index=str, columns={\"business_name\":\"name\", \"business_address\":\"address\"})\n",
    "inspection_scores[\"zip\"] = inspection_scores[\"business_postal_code\"].astype(str)\n",
    "inspection_scores['phone'] = inspection_scores['business_phone_number'].astype(str)"
   ]
  },
  {
   "cell_type": "code",
   "execution_count": null,
   "metadata": {},
   "outputs": [],
   "source": [
    "# Count the unique value of business id in the data\n",
    "inspection_scores['business_id'].value_counts()\n",
    "inspection_scores['business_id'].nunique()"
   ]
  },
  {
   "cell_type": "code",
   "execution_count": null,
   "metadata": {},
   "outputs": [],
   "source": [
    "# Make the business name and address lower case for merging in the database\n",
    "inspection_scores['name'] = inspection_scores['name'].str.lower()\n",
    "inspection_scores['address'] = inspection_scores['address'].str.lower()\n",
    "\n",
    "# Modify the zip code and business phone number for referencing the business in the database\n",
    "inspection_scores[\"zip\"] = inspection_scores[\"zip\"].str[:5]\n",
    "inspection_scores['phone'] = inspection_scores['phone'].map(lambda x: str(x)[:-2])"
   ]
  },
  {
   "cell_type": "code",
   "execution_count": null,
   "metadata": {},
   "outputs": [],
   "source": [
    "# Drop the unnecessary data in the dataframe\n",
    "inspection_df = inspection_scores.drop(['business_postal_code', \n",
    "                                       'business_latitude', 'business_longitude',\n",
    "                                       'business_location', 'business_phone_number',\n",
    "                                       'Neighborhoods', 'Police Districts', 'Supervisor Districts',\n",
    "                                       'Fire Prevention Districts', 'Zip Codes', 'Analysis Neighborhoods'], axis=1)"
   ]
  },
  {
   "cell_type": "code",
   "execution_count": null,
   "metadata": {},
   "outputs": [],
   "source": [
    "# Check the dataframe after cleaning the data\n",
    "print(len(inspection_df))\n",
    "inspection_df.head()"
   ]
  },
  {
   "cell_type": "code",
   "execution_count": null,
   "metadata": {},
   "outputs": [],
   "source": [
    "# Clearning the zip codes in the data frame and create a list for API request\n",
    "zip_codes = inspection_scores[\"zip\"].unique()\n",
    "\n",
    "zip_codes = zip_codes[zip_codes != \"CA\"]\n",
    "zip_codes = zip_codes[zip_codes != \"Ca\"]\n",
    "zip_codes = zip_codes[zip_codes != \"0\"]\n",
    "zip_codes = zip_codes[zip_codes != \"941\"]\n",
    "\n",
    "zip_codes = zip_codes.tolist()\n",
    "del zip_codes[7]\n",
    "\n",
    "zip_codes = [int(i) for i in zip_codes]\n",
    "\n",
    "print(zip_codes)"
   ]
  },
  {
   "cell_type": "code",
   "execution_count": null,
   "metadata": {},
   "outputs": [],
   "source": [
    "# Save the cleaned data frame as a csf file for later use\n",
    "yelp_df.to_csv(\"Resources/Restaurant_Scores_-_LIVES_Standard_Cleaned.csv\", index=False, header=True)"
   ]
  },
  {
   "cell_type": "markdown",
   "metadata": {},
   "source": [
    "## Yelp API Request\n",
    "#### We tried two ways to extract data from Yelp API request,\n",
    "#### 1. Search by city location, San Francisco\n",
    "#### 2. Search by zip codes\n",
    "#### This project choose to use method 1 because method 2 create bunch of duplicates that is difficult to clean in the later time."
   ]
  },
  {
   "cell_type": "code",
   "execution_count": null,
   "metadata": {},
   "outputs": [],
   "source": [
    "# Testing Yelp API request for extracting the business related data\n",
    "\n",
    "# Yelp API key is stored in ykey\n",
    "headers = {\"Authorization\": \"bearer %s\" % ykey}\n",
    "endpoint = \"https://api.yelp.com/v3/businesses/search\"\n",
    "name = []\n",
    "rating = []\n",
    "review_count = []\n",
    "address = []\n",
    "city = []\n",
    "state = []\n",
    "zip_ = []\n",
    "phone = []\n",
    "\n",
    "\n",
    "    \n",
    "# Define the parameters\n",
    "params = {\"term\": \"restaurants\", \"location\": \"San Francisco\", \"radius\": 5000,\n",
    "        \"categories\": \"food\", \"limit\": 50, \"offset\":0}\n",
    "print(params)\n",
    "\n",
    "for j in range(0, 50):\n",
    "\n",
    "    try:\n",
    "# Make a request to the Yelp API\n",
    "        response = requests.get(url = endpoint, params = params, headers = headers)\n",
    "        data_response = response.json()\n",
    "\n",
    "# Add the total counts of fast food stores to \"total\"\n",
    "#         print(json.dumps(data_response, indent=4, sort_keys=True))\n",
    "    \n",
    "\n",
    "        print(data_response[\"businesses\"][j][\"name\"])\n",
    "        name.append(data_response[\"businesses\"][j][\"name\"])\n",
    "        print(data_response[\"businesses\"][j][\"rating\"])\n",
    "        rating.append(data_response[\"businesses\"][j][\"rating\"])\n",
    "        print(data_response[\"businesses\"][j][\"review_count\"])\n",
    "        review_count.append(data_response[\"businesses\"][j][\"review_count\"])\n",
    "        print(data_response[\"businesses\"][j][\"location\"][\"address1\"])\n",
    "        address.append(data_response[\"businesses\"][j][\"location\"][\"address1\"])\n",
    "        print(data_response[\"businesses\"][j][\"location\"][\"city\"])\n",
    "        city.append(data_response[\"businesses\"][j][\"location\"][\"city\"])\n",
    "        print(data_response[\"businesses\"][j][\"location\"][\"state\"])\n",
    "        state.append(data_response[\"businesses\"][j][\"location\"][\"state\"])\n",
    "        print(data_response[\"businesses\"][j][\"location\"][\"zip_code\"])\n",
    "        zip_.append(data_response[\"businesses\"][j][\"location\"][\"zip_code\"])\n",
    "        print(data_response[\"businesses\"][j][\"phone\"])\n",
    "        phone.append(data_response[\"businesses\"][j][\"phone\"])\n",
    "        \n",
    "        \n",
    "    except KeyError:\n",
    "        print(\"no restaurant found!\")"
   ]
  },
  {
   "cell_type": "code",
   "execution_count": null,
   "metadata": {},
   "outputs": [],
   "source": [
    "# Print out the responses\n",
    "print(data_response['businesses'][1]['name'])\n",
    "print(data_response['businesses'][1]['rating'])\n",
    "print(data_response['businesses'][1]['price'])\n",
    "print(data_response['businesses'][1]['location']['address1'])\n",
    "print(data_response['businesses'][1]['location']['state'])\n",
    "print(data_response['businesses'][1]['location']['city'])\n",
    "print(data_response['businesses'][1]['location']['zip_code'])"
   ]
  },
  {
   "cell_type": "code",
   "execution_count": null,
   "metadata": {},
   "outputs": [],
   "source": [
    "# Extract data from Yelp API by location = San Francisco\n",
    "\n",
    "# Yelp API key is stored in ykey\n",
    "headers = {\"Authorization\": \"bearer %s\" % ykey}\n",
    "endpoint = \"https://api.yelp.com/v3/businesses/search\"\n",
    "name = []\n",
    "rating = []\n",
    "review_count = []\n",
    "address = []\n",
    "city = []\n",
    "state = []\n",
    "zip_ = []\n",
    "phone = []\n",
    "\n",
    "# Sending 100 requests and each request will return 50 restaurants\n",
    "for i in range(0, 100):\n",
    "    \n",
    "    for j in range(50):\n",
    "\n",
    "        try:\n",
    "# Define the parameters\n",
    "            params = {\"term\": \"restaurants\", \"location\": \"San Francisco\", \"radius\": 40000, \n",
    "              \"categories\": \"food\", \"limit\": 50, \"offset\":(i*5)}\n",
    "            print(params)\n",
    "\n",
    "\n",
    "# Make a request to the Yelp API\n",
    "            response = requests.get(url = endpoint, params = params, headers = headers)\n",
    "            data_response = response.json()\n",
    "\n",
    "# Add the total counts of fast food stores to \"total\"\n",
    "            print(data_response[\"businesses\"][j][\"name\"])\n",
    "            name.append(data_response[\"businesses\"][j][\"name\"])\n",
    "            print(data_response[\"businesses\"][j][\"rating\"])\n",
    "            rating.append(data_response[\"businesses\"][j][\"rating\"])\n",
    "            print(data_response[\"businesses\"][j][\"review_count\"])\n",
    "            review_count.append(data_response[\"businesses\"][j][\"review_count\"])\n",
    "            print(data_response[\"businesses\"][j][\"location\"][\"address1\"])\n",
    "            address.append(data_response[\"businesses\"][j][\"location\"][\"address1\"])\n",
    "            print(data_response[\"businesses\"][j][\"location\"][\"city\"])\n",
    "            city.append(data_response[\"businesses\"][j][\"location\"][\"city\"])\n",
    "            print(data_response[\"businesses\"][j][\"location\"][\"state\"])\n",
    "            state.append(data_response[\"businesses\"][j][\"location\"][\"state\"])\n",
    "            print(data_response[\"businesses\"][j][\"location\"][\"zip_code\"])\n",
    "            zip_.append(data_response[\"businesses\"][j][\"location\"][\"zip_code\"])\n",
    "            print(data_response[\"businesses\"][j][\"phone\"])\n",
    "            phone.append(data_response[\"businesses\"][j][\"phone\"])\n",
    "        \n",
    "        \n",
    "        \n",
    "        except KeyError:\n",
    "            print(\"no restaurant found!\")\n",
    "    \n",
    "# print(json.dumps(data, indent=4, sort_keys=True))"
   ]
  },
  {
   "cell_type": "code",
   "execution_count": null,
   "metadata": {},
   "outputs": [],
   "source": [
    "# Extract data from Yelp API by location = zip code\n",
    "\n",
    "# Yelp API key is stored in ykey\n",
    "headers = {\"Authorization\": \"bearer %s\" % ykey}\n",
    "endpoint = \"https://api.yelp.com/v3/businesses/search\"\n",
    "name = []\n",
    "rating = []\n",
    "review_count = []\n",
    "address = []\n",
    "city = []\n",
    "state = []\n",
    "zip_ = []\n",
    "phone = []\n",
    "\n",
    "for k in zip_codes:\n",
    "    \n",
    "    for i in range(0, 20):\n",
    "    \n",
    "        for j in range(50):\n",
    "\n",
    "            try:\n",
    "# Define the parameters\n",
    "                params = {\"term\": \"restaurants\", \"location\": k, \"radius\": 5000, \n",
    "                      \"categories\": \"food\", \"limit\": 50, \"offset\":(i*5)}\n",
    "                print(params)\n",
    "\n",
    "\n",
    "# Make a request to the Yelp API\n",
    "                response = requests.get(url = endpoint, params = params, headers = headers)\n",
    "                data_response = response.json()\n",
    "\n",
    "# Add the total counts of fast food stores to \"total\"\n",
    "                print(data_response[\"businesses\"][j][\"name\"])\n",
    "                name.append(data_response[\"businesses\"][j][\"name\"])\n",
    "                print(data_response[\"businesses\"][j][\"rating\"])\n",
    "                rating.append(data_response[\"businesses\"][j][\"rating\"])\n",
    "                print(data_response[\"businesses\"][j][\"review_count\"])\n",
    "                review_count.append(data_response[\"businesses\"][j][\"review_count\"])\n",
    "                print(data_response[\"businesses\"][j][\"location\"][\"address1\"])\n",
    "                address.append(data_response[\"businesses\"][j][\"location\"][\"address1\"])\n",
    "                print(data_response[\"businesses\"][j][\"location\"][\"city\"])\n",
    "                city.append(data_response[\"businesses\"][j][\"location\"][\"city\"])\n",
    "                print(data_response[\"businesses\"][j][\"location\"][\"state\"])\n",
    "                state.append(data_response[\"businesses\"][j][\"location\"][\"state\"])\n",
    "                print(data_response[\"businesses\"][j][\"location\"][\"zip_code\"])\n",
    "                zip_.append(data_response[\"businesses\"][j][\"location\"][\"zip_code\"])\n",
    "                print(data_response[\"businesses\"][j][\"phone\"])\n",
    "                phone.append(data_response[\"businesses\"][j][\"phone\"])\n",
    "        \n",
    "        \n",
    "        \n",
    "            except KeyError:\n",
    "                print(\"no restaurant found!\")\n",
    "    \n",
    "# print(json.dumps(data, indent=4, sort_keys=True))"
   ]
  },
  {
   "cell_type": "code",
   "execution_count": null,
   "metadata": {},
   "outputs": [],
   "source": [
    "# Assign keys to the json data\n",
    "keys = {\"name\":name, \"rating\":rating, \"reviews\":review_count,\n",
    "       \"address\":address, \"city\":city, \"state\":state, \"zip_code\":zip_, \"phone\":phone}\n",
    "\n",
    "print(len(name))\n",
    "\n",
    "# Create a data frame for the json data\n",
    "yelp_df = pd.DataFrame(keys)\n",
    "yelp_df.head()"
   ]
  },
  {
   "cell_type": "code",
   "execution_count": null,
   "metadata": {},
   "outputs": [],
   "source": [
    "# Save the Yelp API data into a csv file for future work\n",
    "yelp_df.to_csv(\"Resources/yelp_api.csv\", index=False, header=True)"
   ]
  },
  {
   "cell_type": "code",
   "execution_count": null,
   "metadata": {},
   "outputs": [],
   "source": [
    "# Cleaning the data for merging in the database\n",
    "\n",
    "yelp_df['zip_code'].dtype\n",
    "\n",
    "yelp_df['name'] = yelp_df['name'].str.lower()\n",
    "yelp_df['address'] = yelp_df['address'].str.lower()\n",
    "\n",
    "yelp_df['zip_code'] = yelp_df['zip_code'].astype(str)\n",
    "yelp_df['phone'] = yelp_df['phone'].astype(str)\n",
    "\n",
    "yelp_df['zip'] = yelp_df['zip_code'].map(lambda x: str(x)[:-2])\n",
    "yelp_df['phone'] = yelp_df['phone'].map(lambda x: str(x)[:-2])\n",
    "\n",
    "yelp_df = yelp_df.drop(['zip_code'], axis=1)\n",
    "\n",
    "yelp_df.head()\n",
    "\n",
    "# print(len(yelp_df))"
   ]
  },
  {
   "cell_type": "markdown",
   "metadata": {},
   "source": [
    "## Storing the data to SQLite database:\n",
    "\n",
    "#### There are two ways to store the data into SQLite database,\n",
    "#### 1. Using pandas method \"dataframe.to_sql()\"\n",
    "#### 2. Create metadata base and append data from data frames to the specific tables in the database\n",
    "#### This project use the second method to append data because to_sql() method does not allow database to create primary key for the data.\n",
    "\n",
    "## Storing the data to MySQL:\n",
    "\n",
    "#### The data is also stored in MySQL database and the sql commands are saved in a separated file"
   ]
  },
  {
   "cell_type": "code",
   "execution_count": null,
   "metadata": {},
   "outputs": [],
   "source": [
    "# Import SQL Alchemy\n",
    "from sqlalchemy import create_engine\n",
    "\n",
    "# Import and establish Base for which classes will be constructed \n",
    "from sqlalchemy.ext.declarative import declarative_base\n",
    "Base = declarative_base()\n",
    "\n",
    "# Import modules to declare columns and column data types\n",
    "from sqlalchemy import Column, Integer, String, Float"
   ]
  },
  {
   "cell_type": "code",
   "execution_count": null,
   "metadata": {},
   "outputs": [],
   "source": [
    "# Loading the csv file back to pandas dataframe\n",
    "inspect_csvpath = os.path.join(\".\", \"Resources\", \"Restaurant_Scores_-_LIVES_Standard.csv\")\n",
    "inspection_scores = pd.read_csv(inspect_csvpath)\n",
    "\n",
    "yelp_csvpath = os.path.join(\".\", \"Resources\", \"yelp_api.csv\")\n",
    "yelp_0 = pd.read_csv(yelp_csvpath)"
   ]
  },
  {
   "cell_type": "code",
   "execution_count": null,
   "metadata": {},
   "outputs": [],
   "source": [
    "# Create the inspection class\n",
    "class inspection(Base):\n",
    "    __tablename__ = 'inspection'\n",
    "    id = Column(Integer, primary_key=True)\n",
    "    business_id = Column(Integer)\n",
    "    name = Column(String(255))\n",
    "    address = Column(String(255))\n",
    "    business_city = Column(String(255))\n",
    "    business_state = Column(String(255))\n",
    "    inspection_id = Column(String(255))\n",
    "    inspection_date = Column(String(255))\n",
    "    inspection_score = Column(Float)\n",
    "    inspection_type = Column(String(500))\n",
    "    violation_id = Column(String(255))\n",
    "    violation_description = Column(String(800))\n",
    "    risk_category = Column(String(255))\n",
    "    zip = Column(String(255))\n",
    "    phone = Column(String(255))"
   ]
  },
  {
   "cell_type": "code",
   "execution_count": null,
   "metadata": {},
   "outputs": [],
   "source": [
    "# Create a connection to a SQLite database\n",
    "engine = create_engine('sqlite:///ELT_Project.db')"
   ]
  },
  {
   "cell_type": "code",
   "execution_count": null,
   "metadata": {},
   "outputs": [],
   "source": [
    "Base.metadata.create_all(engine)"
   ]
  },
  {
   "cell_type": "code",
   "execution_count": null,
   "metadata": {},
   "outputs": [],
   "source": [
    "# To push the objects made and query the server we use a Session object\n",
    "from sqlalchemy.orm import Session\n",
    "session = Session(bind=engine)"
   ]
  },
  {
   "cell_type": "code",
   "execution_count": null,
   "metadata": {},
   "outputs": [],
   "source": [
    "# Appending the dataframe into database\n",
    "\n",
    "for i in range(len(inspection_df['name'])):\n",
    "    inspect = inspection(business_id = inspection_scores['business_id'][i],\n",
    "                        address = inspection_scores['address'][i],\n",
    "                        business_city = inspection_scores['business_city'][i],\n",
    "                        business_state = inspection_scores['business_state'][i],\n",
    "                        inspection_id = inspection_scores['inspection_id'][i],\n",
    "                        inspection_date = inspection_scores['inspection_date'][i],\n",
    "                        inspection_score = inspection_scores['inspection_score'][i],\n",
    "                        inspection_type = inspection_scores['inspection_type'][i],\n",
    "                        violation_id = inspection_scores['violation_id'][i],\n",
    "                        violation_description = inspection_scores['violation_description'][i],\n",
    "                        risk_category = inspection_scores['risk_category'][i],\n",
    "                        zip = inspection_scores['zip'][i],\n",
    "                        phone = inspection_scores['phone'][i])\n",
    "    session.add(inspect)\n",
    "    session.commit()"
   ]
  },
  {
   "cell_type": "code",
   "execution_count": null,
   "metadata": {},
   "outputs": [],
   "source": [
    "# Create the inspection class\n",
    "class yelp(Base):\n",
    "    __tablename__ = 'yelp'\n",
    "    id = Column(Integer, primary_key=True)\n",
    "    name = Column(String(255))\n",
    "    rating = Column(Float)\n",
    "    reviews = Column(Integer)\n",
    "    address = Column(String(255))\n",
    "    city = Column(String(255))\n",
    "    state = Column(String(255))\n",
    "    phone = Column(String(255))\n",
    "    zip = Column(String(255))"
   ]
  },
  {
   "cell_type": "code",
   "execution_count": null,
   "metadata": {},
   "outputs": [],
   "source": [
    "# Appending the dataframe into database\n",
    "\n",
    "for j in range(len(yelp_df['name'])):\n",
    "    y = yelp(name = yelp_df['name'][j],\n",
    "             rating = yelp_df['rating'][j],\n",
    "             reviews = yelp_df['reviews'][j],\n",
    "             address = yelp_df['address'][j],\n",
    "             city = yelp_df['city'][j],\n",
    "             state = yelp_df['state'][j],\n",
    "             phone = yelp_df['phone'][j],\n",
    "             zip = yelp_df['zip'][j])\n",
    "    \n",
    "    print(y)\n",
    "    session.add(y)\n",
    "    session.commit()"
   ]
  },
  {
   "cell_type": "code",
   "execution_count": null,
   "metadata": {},
   "outputs": [],
   "source": [
    "# Checking the data in the database engine\n",
    "engine.execute(\"SELECT * FROM inspection\").fetchall()"
   ]
  },
  {
   "cell_type": "code",
   "execution_count": null,
   "metadata": {},
   "outputs": [],
   "source": [
    "engine.execute(\"SELECT * FROM yelp\").fetchall()"
   ]
  },
  {
   "cell_type": "code",
   "execution_count": null,
   "metadata": {},
   "outputs": [],
   "source": [
    "# Checking the table names\n",
    "inspector = inspect(engine)\n",
    "inspector.get_table_names()"
   ]
  },
  {
   "cell_type": "code",
   "execution_count": null,
   "metadata": {},
   "outputs": [],
   "source": [
    "# checking the header names in the inspection scores table\n",
    "columns = inspector.get_columns('inspection')\n",
    "for i in columns:\n",
    "    print(i['name'], i['type'])"
   ]
  },
  {
   "cell_type": "code",
   "execution_count": null,
   "metadata": {},
   "outputs": [],
   "source": [
    "# Checking the header names in the yelp rating table\n",
    "columns = inspector.get_columns('yelp')\n",
    "for j in columns:\n",
    "    print(j[\"name\"], j[\"type\"])"
   ]
  },
  {
   "cell_type": "markdown",
   "metadata": {},
   "source": [
    "## Analysis on restaurant inspection scores and customer-based rating\n",
    "\n",
    "#### Using matplotly for ploting the joined data.\n",
    "#### After joining the data, only 122 business can be matched by the business name and it's zip code\n"
   ]
  },
  {
   "cell_type": "code",
   "execution_count": null,
   "metadata": {},
   "outputs": [],
   "source": [
    "joined_df = pd.merge(inspection_df, yelp_df, on=['name', 'zip'])\n",
    "# joined_df.head(100)\n",
    "# print(len(joined_df))\n",
    "joined_df['name'].nunique()"
   ]
  },
  {
   "cell_type": "code",
   "execution_count": null,
   "metadata": {},
   "outputs": [],
   "source": [
    "# Cleaning the data in the joined data frame\n",
    "joined_df = joined_df.dropna(subset=['inspection_score'])\n",
    "joined_df = joined_df.drop_duplicates(subset='business_id', keep='first')\n",
    "joined_df.head(10)"
   ]
  },
  {
   "cell_type": "code",
   "execution_count": null,
   "metadata": {},
   "outputs": [],
   "source": [
    "# Plotting the inspection scores from the joined data frame\n",
    "ax_1 = joined_df.plot(x='name', y='inspection_score', style='o',\n",
    "              title=\"Inspection Scores\")\n",
    "fig_1 = ax_1.get_figure()\n",
    "fig_1.savefig('./Images/Inspection_Scores.png')"
   ]
  },
  {
   "cell_type": "code",
   "execution_count": null,
   "metadata": {},
   "outputs": [],
   "source": [
    "# Plotting the yelp rating from the joined data frame\n",
    "ax_2 = joined_df.plot(x='name', y='rating', style='^',\n",
    "              title=\"Yelp Rating\")\n",
    "fig_2 = ax_2.get_figure()\n",
    "fig_2.savefig('./Images/Yelp_Scores.png')"
   ]
  },
  {
   "cell_type": "code",
   "execution_count": null,
   "metadata": {},
   "outputs": [],
   "source": [
    "# Plotting the inspection scores and yelp rating\n",
    "plt.scatter(joined_df['rating'], joined_df['inspection_score'])\n",
    "plt.title(\"Inspection Scores Vs. Yelp Rating\")\n",
    "plt.xlabel(\"Yelp Rating (Scale: 0 - 5)\")\n",
    "plt.ylabel(\"Inspection Score\")\n",
    "plt.savefig('./Images/inspection_scores_vs_yelp_rating.png')"
   ]
  },
  {
   "cell_type": "code",
   "execution_count": null,
   "metadata": {},
   "outputs": [],
   "source": []
  }
 ],
 "metadata": {
  "kernelspec": {
   "display_name": "Python 3",
   "language": "python",
   "name": "python3"
  },
  "language_info": {
   "codemirror_mode": {
    "name": "ipython",
    "version": 3
   },
   "file_extension": ".py",
   "mimetype": "text/x-python",
   "name": "python",
   "nbconvert_exporter": "python",
   "pygments_lexer": "ipython3",
   "version": "3.7.1"
  }
 },
 "nbformat": 4,
 "nbformat_minor": 2
}
